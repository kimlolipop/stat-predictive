{
 "cells": [
  {
   "cell_type": "markdown",
   "id": "27e88ba9-98ed-4ba5-a81c-3a3e32d5126d",
   "metadata": {
    "jp-MarkdownHeadingCollapsed": true,
    "tags": []
   },
   "source": [
    "## Temp"
   ]
  },
  {
   "cell_type": "code",
   "execution_count": 5,
   "id": "31cdedc7-38d6-4a64-8c0c-781acee8597d",
   "metadata": {},
   "outputs": [],
   "source": [
    "import pandas as pd\n",
    "import seaborn as sn\n"
   ]
  },
  {
   "cell_type": "code",
   "execution_count": 145,
   "id": "3ca22067-494c-4db2-9d6a-6bd4a9670236",
   "metadata": {},
   "outputs": [
    {
     "data": {
      "text/html": [
       "<div>\n",
       "<style scoped>\n",
       "    .dataframe tbody tr th:only-of-type {\n",
       "        vertical-align: middle;\n",
       "    }\n",
       "\n",
       "    .dataframe tbody tr th {\n",
       "        vertical-align: top;\n",
       "    }\n",
       "\n",
       "    .dataframe thead th {\n",
       "        text-align: right;\n",
       "    }\n",
       "</style>\n",
       "<table border=\"1\" class=\"dataframe\">\n",
       "  <thead>\n",
       "    <tr style=\"text-align: right;\">\n",
       "      <th></th>\n",
       "      <th>Unnamed: 0</th>\n",
       "      <th>date</th>\n",
       "      <th>time</th>\n",
       "      <th>temperature</th>\n",
       "      <th>voltage</th>\n",
       "      <th>current</th>\n",
       "      <th>pf</th>\n",
       "      <th>frequency</th>\n",
       "      <th>status</th>\n",
       "    </tr>\n",
       "  </thead>\n",
       "  <tbody>\n",
       "    <tr>\n",
       "      <th>0</th>\n",
       "      <td>0</td>\n",
       "      <td>19/08/2021</td>\n",
       "      <td>02:31:39</td>\n",
       "      <td>1</td>\n",
       "      <td>1</td>\n",
       "      <td>12</td>\n",
       "      <td>1</td>\n",
       "      <td>1</td>\n",
       "      <td>normal</td>\n",
       "    </tr>\n",
       "    <tr>\n",
       "      <th>1</th>\n",
       "      <td>1</td>\n",
       "      <td>19/08/2021</td>\n",
       "      <td>02:31:52</td>\n",
       "      <td>1</td>\n",
       "      <td>1</td>\n",
       "      <td>12</td>\n",
       "      <td>1</td>\n",
       "      <td>1</td>\n",
       "      <td>normal</td>\n",
       "    </tr>\n",
       "    <tr>\n",
       "      <th>2</th>\n",
       "      <td>2</td>\n",
       "      <td>20/08/2021</td>\n",
       "      <td>03:24:44</td>\n",
       "      <td>22</td>\n",
       "      <td>225</td>\n",
       "      <td>0</td>\n",
       "      <td>0</td>\n",
       "      <td>50</td>\n",
       "      <td>normal</td>\n",
       "    </tr>\n",
       "    <tr>\n",
       "      <th>3</th>\n",
       "      <td>3</td>\n",
       "      <td>20/08/2021</td>\n",
       "      <td>03:25:19</td>\n",
       "      <td>23</td>\n",
       "      <td>225</td>\n",
       "      <td>0</td>\n",
       "      <td>0</td>\n",
       "      <td>49</td>\n",
       "      <td>normal</td>\n",
       "    </tr>\n",
       "    <tr>\n",
       "      <th>4</th>\n",
       "      <td>4</td>\n",
       "      <td>24/08/2021</td>\n",
       "      <td>12:06:52</td>\n",
       "      <td>37</td>\n",
       "      <td>237</td>\n",
       "      <td>22</td>\n",
       "      <td>0</td>\n",
       "      <td>50</td>\n",
       "      <td>normal</td>\n",
       "    </tr>\n",
       "    <tr>\n",
       "      <th>...</th>\n",
       "      <td>...</td>\n",
       "      <td>...</td>\n",
       "      <td>...</td>\n",
       "      <td>...</td>\n",
       "      <td>...</td>\n",
       "      <td>...</td>\n",
       "      <td>...</td>\n",
       "      <td>...</td>\n",
       "      <td>...</td>\n",
       "    </tr>\n",
       "    <tr>\n",
       "      <th>16759</th>\n",
       "      <td>16759</td>\n",
       "      <td>05/09/2021</td>\n",
       "      <td>05:25:02</td>\n",
       "      <td>31</td>\n",
       "      <td>1</td>\n",
       "      <td>-1</td>\n",
       "      <td>-1</td>\n",
       "      <td>-1</td>\n",
       "      <td>normal</td>\n",
       "    </tr>\n",
       "    <tr>\n",
       "      <th>16816</th>\n",
       "      <td>16816</td>\n",
       "      <td>05/09/2021</td>\n",
       "      <td>05:52:45</td>\n",
       "      <td>30</td>\n",
       "      <td>-1</td>\n",
       "      <td>-100</td>\n",
       "      <td>-1</td>\n",
       "      <td>-1</td>\n",
       "      <td>normal</td>\n",
       "    </tr>\n",
       "    <tr>\n",
       "      <th>16859</th>\n",
       "      <td>16859</td>\n",
       "      <td>05/09/2021</td>\n",
       "      <td>06:11:55</td>\n",
       "      <td>30</td>\n",
       "      <td>0</td>\n",
       "      <td>-1</td>\n",
       "      <td>-1</td>\n",
       "      <td>-1</td>\n",
       "      <td>normal</td>\n",
       "    </tr>\n",
       "    <tr>\n",
       "      <th>17020</th>\n",
       "      <td>17020</td>\n",
       "      <td>06/09/2021</td>\n",
       "      <td>07:29:33</td>\n",
       "      <td>30</td>\n",
       "      <td>-1</td>\n",
       "      <td>0</td>\n",
       "      <td>-1</td>\n",
       "      <td>-1</td>\n",
       "      <td>normal</td>\n",
       "    </tr>\n",
       "    <tr>\n",
       "      <th>17150</th>\n",
       "      <td>17150</td>\n",
       "      <td>06/09/2021</td>\n",
       "      <td>08:30:03</td>\n",
       "      <td>30</td>\n",
       "      <td>-1</td>\n",
       "      <td>-3</td>\n",
       "      <td>-1</td>\n",
       "      <td>-1</td>\n",
       "      <td>normal</td>\n",
       "    </tr>\n",
       "  </tbody>\n",
       "</table>\n",
       "<p>3142 rows × 9 columns</p>\n",
       "</div>"
      ],
      "text/plain": [
       "       Unnamed: 0        date      time  temperature  voltage  current  pf  \\\n",
       "0               0  19/08/2021  02:31:39            1        1       12   1   \n",
       "1               1  19/08/2021  02:31:52            1        1       12   1   \n",
       "2               2  20/08/2021  03:24:44           22      225        0   0   \n",
       "3               3  20/08/2021  03:25:19           23      225        0   0   \n",
       "4               4  24/08/2021  12:06:52           37      237       22   0   \n",
       "...           ...         ...       ...          ...      ...      ...  ..   \n",
       "16759       16759  05/09/2021  05:25:02           31        1       -1  -1   \n",
       "16816       16816  05/09/2021  05:52:45           30       -1     -100  -1   \n",
       "16859       16859  05/09/2021  06:11:55           30        0       -1  -1   \n",
       "17020       17020  06/09/2021  07:29:33           30       -1        0  -1   \n",
       "17150       17150  06/09/2021  08:30:03           30       -1       -3  -1   \n",
       "\n",
       "       frequency  status  \n",
       "0              1  normal  \n",
       "1              1  normal  \n",
       "2             50  normal  \n",
       "3             49  normal  \n",
       "4             50  normal  \n",
       "...          ...     ...  \n",
       "16759         -1  normal  \n",
       "16816         -1  normal  \n",
       "16859         -1  normal  \n",
       "17020         -1  normal  \n",
       "17150         -1  normal  \n",
       "\n",
       "[3142 rows x 9 columns]"
      ]
     },
     "execution_count": 145,
     "metadata": {},
     "output_type": "execute_result"
    }
   ],
   "source": [
    "df = pd.read_csv('data/R1L1-J2-data.csv')\n",
    "df = df[df['status'] == 'normal']\n",
    "df\n",
    "\n",
    "# df.voltage.quantile([0.25,0.5,0.75])"
   ]
  },
  {
   "cell_type": "code",
   "execution_count": 142,
   "id": "d80aaa96-182e-48a0-8a0d-2b4d034d42a1",
   "metadata": {},
   "outputs": [
    {
     "data": {
      "text/html": [
       "<div>\n",
       "<style scoped>\n",
       "    .dataframe tbody tr th:only-of-type {\n",
       "        vertical-align: middle;\n",
       "    }\n",
       "\n",
       "    .dataframe tbody tr th {\n",
       "        vertical-align: top;\n",
       "    }\n",
       "\n",
       "    .dataframe thead th {\n",
       "        text-align: right;\n",
       "    }\n",
       "</style>\n",
       "<table border=\"1\" class=\"dataframe\">\n",
       "  <thead>\n",
       "    <tr style=\"text-align: right;\">\n",
       "      <th></th>\n",
       "      <th>date</th>\n",
       "      <th>time</th>\n",
       "      <th>temperature</th>\n",
       "    </tr>\n",
       "  </thead>\n",
       "  <tbody>\n",
       "  </tbody>\n",
       "</table>\n",
       "</div>"
      ],
      "text/plain": [
       "Empty DataFrame\n",
       "Columns: [date, time, temperature]\n",
       "Index: []"
      ]
     },
     "execution_count": 142,
     "metadata": {},
     "output_type": "execute_result"
    }
   ],
   "source": [
    "# def clean(df):\n",
    "df_temp =  df[['date','time','temperature']]\t\n",
    "df_temp = df_temp[df_temp['temperature'] > 1]\n",
    "df_temp = df_temp[df_temp['temperature'] <= 100]\n",
    "df_temp = df_temp[(df_temp['temperature'] >= 20) & (df_temp['temperature'] <= 50)]\n",
    "df_temp"
   ]
  },
  {
   "cell_type": "code",
   "execution_count": 143,
   "id": "067565fe-b8c9-4df3-9f2f-22caff425d41",
   "metadata": {},
   "outputs": [
    {
     "data": {
      "text/plain": [
       "array([[<AxesSubplot:title={'center':'temperature'}>]], dtype=object)"
      ]
     },
     "execution_count": 143,
     "metadata": {},
     "output_type": "execute_result"
    },
    {
     "data": {
      "image/png": "[encoded data removed]",
      "text/plain": [
       "<Figure size 432x288 with 1 Axes>"
      ]
     },
     "metadata": {
      "needs_background": "light"
     },
     "output_type": "display_data"
    }
   ],
   "source": [
    "df_temp[['temperature']].hist(bins =100)"
   ]
  },
  {
   "cell_type": "code",
   "execution_count": 144,
   "id": "ca22af9a-99c4-479c-acfc-3873869f9ebd",
   "metadata": {},
   "outputs": [],
   "source": [
    "q25,q75 = df_temp['temperature'].quantile([0.25,0.75])\n",
    "q5,q95 = df_temp['temperature'].quantile([0.05,0.95])"
   ]
  },
  {
   "cell_type": "code",
   "execution_count": 137,
   "id": "0037227e-a4bf-4d90-9705-8efbe50ea290",
   "metadata": {},
   "outputs": [
    {
     "name": "stdout",
     "output_type": "stream",
     "text": [
      "26.25 26.0 16.5\n"
     ]
    }
   ],
   "source": [
    "print(q75, q25,iqr*1.5)\n",
    "iqr = q75 - q25\n"
   ]
  },
  {
   "cell_type": "code",
   "execution_count": null,
   "id": "104bda53-6494-4ee3-baf7-2c4c75819e44",
   "metadata": {},
   "outputs": [],
   "source": []
  },
  {
   "cell_type": "code",
   "execution_count": 138,
   "id": "f994b19c-46c1-49ed-a500-a067984731f3",
   "metadata": {},
   "outputs": [
    {
     "name": "stdout",
     "output_type": "stream",
     "text": [
      "25.625 26.625\n"
     ]
    }
   ],
   "source": [
    "lower_temp = q25 - (1.5*iqr)\n",
    "upper_temp = q75 + (1.5*iqr)\n",
    "print(lower_temp, upper_temp)"
   ]
  },
  {
   "cell_type": "code",
   "execution_count": 139,
   "id": "2746c44c-653e-4137-8a39-2cdcd977a992",
   "metadata": {},
   "outputs": [
    {
     "name": "stdout",
     "output_type": "stream",
     "text": [
      "26.0 27.0\n"
     ]
    }
   ],
   "source": [
    "print(q5,q95)"
   ]
  },
  {
   "cell_type": "markdown",
   "id": "e89560f9-55d9-46cb-964a-252cbadf7cc6",
   "metadata": {},
   "source": [
    "## Vol"
   ]
  },
  {
   "cell_type": "code",
   "execution_count": 148,
   "id": "9e60f73e-f4bf-408c-aac5-35f0321fec9b",
   "metadata": {},
   "outputs": [],
   "source": [
    "import pandas as pd"
   ]
  },
  {
   "cell_type": "code",
   "execution_count": 149,
   "id": "205aeb25-275b-4f40-9e2d-92d812bd182e",
   "metadata": {},
   "outputs": [
    {
     "data": {
      "text/html": [
       "<div>\n",
       "<style scoped>\n",
       "    .dataframe tbody tr th:only-of-type {\n",
       "        vertical-align: middle;\n",
       "    }\n",
       "\n",
       "    .dataframe tbody tr th {\n",
       "        vertical-align: top;\n",
       "    }\n",
       "\n",
       "    .dataframe thead th {\n",
       "        text-align: right;\n",
       "    }\n",
       "</style>\n",
       "<table border=\"1\" class=\"dataframe\">\n",
       "  <thead>\n",
       "    <tr style=\"text-align: right;\">\n",
       "      <th></th>\n",
       "      <th>Unnamed: 0</th>\n",
       "      <th>date</th>\n",
       "      <th>time</th>\n",
       "      <th>temperature</th>\n",
       "      <th>voltage</th>\n",
       "      <th>current</th>\n",
       "      <th>pf</th>\n",
       "      <th>frequency</th>\n",
       "      <th>status</th>\n",
       "    </tr>\n",
       "  </thead>\n",
       "  <tbody>\n",
       "    <tr>\n",
       "      <th>0</th>\n",
       "      <td>0</td>\n",
       "      <td>19/08/2021</td>\n",
       "      <td>02:31:39</td>\n",
       "      <td>1</td>\n",
       "      <td>1</td>\n",
       "      <td>12</td>\n",
       "      <td>1</td>\n",
       "      <td>1</td>\n",
       "      <td>normal</td>\n",
       "    </tr>\n",
       "    <tr>\n",
       "      <th>1</th>\n",
       "      <td>1</td>\n",
       "      <td>19/08/2021</td>\n",
       "      <td>02:31:52</td>\n",
       "      <td>1</td>\n",
       "      <td>1</td>\n",
       "      <td>12</td>\n",
       "      <td>1</td>\n",
       "      <td>1</td>\n",
       "      <td>normal</td>\n",
       "    </tr>\n",
       "    <tr>\n",
       "      <th>2</th>\n",
       "      <td>2</td>\n",
       "      <td>20/08/2021</td>\n",
       "      <td>03:24:44</td>\n",
       "      <td>22</td>\n",
       "      <td>225</td>\n",
       "      <td>0</td>\n",
       "      <td>0</td>\n",
       "      <td>50</td>\n",
       "      <td>normal</td>\n",
       "    </tr>\n",
       "    <tr>\n",
       "      <th>3</th>\n",
       "      <td>3</td>\n",
       "      <td>20/08/2021</td>\n",
       "      <td>03:25:19</td>\n",
       "      <td>23</td>\n",
       "      <td>225</td>\n",
       "      <td>0</td>\n",
       "      <td>0</td>\n",
       "      <td>49</td>\n",
       "      <td>normal</td>\n",
       "    </tr>\n",
       "    <tr>\n",
       "      <th>4</th>\n",
       "      <td>4</td>\n",
       "      <td>24/08/2021</td>\n",
       "      <td>12:06:52</td>\n",
       "      <td>37</td>\n",
       "      <td>237</td>\n",
       "      <td>22</td>\n",
       "      <td>0</td>\n",
       "      <td>50</td>\n",
       "      <td>normal</td>\n",
       "    </tr>\n",
       "    <tr>\n",
       "      <th>...</th>\n",
       "      <td>...</td>\n",
       "      <td>...</td>\n",
       "      <td>...</td>\n",
       "      <td>...</td>\n",
       "      <td>...</td>\n",
       "      <td>...</td>\n",
       "      <td>...</td>\n",
       "      <td>...</td>\n",
       "      <td>...</td>\n",
       "    </tr>\n",
       "    <tr>\n",
       "      <th>16759</th>\n",
       "      <td>16759</td>\n",
       "      <td>05/09/2021</td>\n",
       "      <td>05:25:02</td>\n",
       "      <td>31</td>\n",
       "      <td>1</td>\n",
       "      <td>-1</td>\n",
       "      <td>-1</td>\n",
       "      <td>-1</td>\n",
       "      <td>normal</td>\n",
       "    </tr>\n",
       "    <tr>\n",
       "      <th>16816</th>\n",
       "      <td>16816</td>\n",
       "      <td>05/09/2021</td>\n",
       "      <td>05:52:45</td>\n",
       "      <td>30</td>\n",
       "      <td>-1</td>\n",
       "      <td>-100</td>\n",
       "      <td>-1</td>\n",
       "      <td>-1</td>\n",
       "      <td>normal</td>\n",
       "    </tr>\n",
       "    <tr>\n",
       "      <th>16859</th>\n",
       "      <td>16859</td>\n",
       "      <td>05/09/2021</td>\n",
       "      <td>06:11:55</td>\n",
       "      <td>30</td>\n",
       "      <td>0</td>\n",
       "      <td>-1</td>\n",
       "      <td>-1</td>\n",
       "      <td>-1</td>\n",
       "      <td>normal</td>\n",
       "    </tr>\n",
       "    <tr>\n",
       "      <th>17020</th>\n",
       "      <td>17020</td>\n",
       "      <td>06/09/2021</td>\n",
       "      <td>07:29:33</td>\n",
       "      <td>30</td>\n",
       "      <td>-1</td>\n",
       "      <td>0</td>\n",
       "      <td>-1</td>\n",
       "      <td>-1</td>\n",
       "      <td>normal</td>\n",
       "    </tr>\n",
       "    <tr>\n",
       "      <th>17150</th>\n",
       "      <td>17150</td>\n",
       "      <td>06/09/2021</td>\n",
       "      <td>08:30:03</td>\n",
       "      <td>30</td>\n",
       "      <td>-1</td>\n",
       "      <td>-3</td>\n",
       "      <td>-1</td>\n",
       "      <td>-1</td>\n",
       "      <td>normal</td>\n",
       "    </tr>\n",
       "  </tbody>\n",
       "</table>\n",
       "<p>3142 rows × 9 columns</p>\n",
       "</div>"
      ],
      "text/plain": [
       "       Unnamed: 0        date      time  temperature  voltage  current  pf  \\\n",
       "0               0  19/08/2021  02:31:39            1        1       12   1   \n",
       "1               1  19/08/2021  02:31:52            1        1       12   1   \n",
       "2               2  20/08/2021  03:24:44           22      225        0   0   \n",
       "3               3  20/08/2021  03:25:19           23      225        0   0   \n",
       "4               4  24/08/2021  12:06:52           37      237       22   0   \n",
       "...           ...         ...       ...          ...      ...      ...  ..   \n",
       "16759       16759  05/09/2021  05:25:02           31        1       -1  -1   \n",
       "16816       16816  05/09/2021  05:52:45           30       -1     -100  -1   \n",
       "16859       16859  05/09/2021  06:11:55           30        0       -1  -1   \n",
       "17020       17020  06/09/2021  07:29:33           30       -1        0  -1   \n",
       "17150       17150  06/09/2021  08:30:03           30       -1       -3  -1   \n",
       "\n",
       "       frequency  status  \n",
       "0              1  normal  \n",
       "1              1  normal  \n",
       "2             50  normal  \n",
       "3             49  normal  \n",
       "4             50  normal  \n",
       "...          ...     ...  \n",
       "16759         -1  normal  \n",
       "16816         -1  normal  \n",
       "16859         -1  normal  \n",
       "17020         -1  normal  \n",
       "17150         -1  normal  \n",
       "\n",
       "[3142 rows x 9 columns]"
      ]
     },
     "execution_count": 149,
     "metadata": {},
     "output_type": "execute_result"
    }
   ],
   "source": [
    "df = pd.read_csv('data/R1L1-J2-data.csv')\n",
    "df = df[df['status'] == 'normal']\n",
    "df\n"
   ]
  },
  {
   "cell_type": "code",
   "execution_count": 150,
   "id": "cc532fa9-6707-4a68-b552-fe055536557d",
   "metadata": {},
   "outputs": [
    {
     "data": {
      "text/html": [
       "<div>\n",
       "<style scoped>\n",
       "    .dataframe tbody tr th:only-of-type {\n",
       "        vertical-align: middle;\n",
       "    }\n",
       "\n",
       "    .dataframe tbody tr th {\n",
       "        vertical-align: top;\n",
       "    }\n",
       "\n",
       "    .dataframe thead th {\n",
       "        text-align: right;\n",
       "    }\n",
       "</style>\n",
       "<table border=\"1\" class=\"dataframe\">\n",
       "  <thead>\n",
       "    <tr style=\"text-align: right;\">\n",
       "      <th></th>\n",
       "      <th>date</th>\n",
       "      <th>time</th>\n",
       "      <th>temperature</th>\n",
       "    </tr>\n",
       "  </thead>\n",
       "  <tbody>\n",
       "    <tr>\n",
       "      <th>2</th>\n",
       "      <td>20/08/2021</td>\n",
       "      <td>03:24:44</td>\n",
       "      <td>22</td>\n",
       "    </tr>\n",
       "    <tr>\n",
       "      <th>3</th>\n",
       "      <td>20/08/2021</td>\n",
       "      <td>03:25:19</td>\n",
       "      <td>23</td>\n",
       "    </tr>\n",
       "    <tr>\n",
       "      <th>4</th>\n",
       "      <td>24/08/2021</td>\n",
       "      <td>12:06:52</td>\n",
       "      <td>37</td>\n",
       "    </tr>\n",
       "    <tr>\n",
       "      <th>5</th>\n",
       "      <td>24/08/2021</td>\n",
       "      <td>12:07:04</td>\n",
       "      <td>38</td>\n",
       "    </tr>\n",
       "    <tr>\n",
       "      <th>7</th>\n",
       "      <td>24/08/2021</td>\n",
       "      <td>12:07:39</td>\n",
       "      <td>37</td>\n",
       "    </tr>\n",
       "    <tr>\n",
       "      <th>...</th>\n",
       "      <td>...</td>\n",
       "      <td>...</td>\n",
       "      <td>...</td>\n",
       "    </tr>\n",
       "    <tr>\n",
       "      <th>16759</th>\n",
       "      <td>05/09/2021</td>\n",
       "      <td>05:25:02</td>\n",
       "      <td>31</td>\n",
       "    </tr>\n",
       "    <tr>\n",
       "      <th>16816</th>\n",
       "      <td>05/09/2021</td>\n",
       "      <td>05:52:45</td>\n",
       "      <td>30</td>\n",
       "    </tr>\n",
       "    <tr>\n",
       "      <th>16859</th>\n",
       "      <td>05/09/2021</td>\n",
       "      <td>06:11:55</td>\n",
       "      <td>30</td>\n",
       "    </tr>\n",
       "    <tr>\n",
       "      <th>17020</th>\n",
       "      <td>06/09/2021</td>\n",
       "      <td>07:29:33</td>\n",
       "      <td>30</td>\n",
       "    </tr>\n",
       "    <tr>\n",
       "      <th>17150</th>\n",
       "      <td>06/09/2021</td>\n",
       "      <td>08:30:03</td>\n",
       "      <td>30</td>\n",
       "    </tr>\n",
       "  </tbody>\n",
       "</table>\n",
       "<p>3114 rows × 3 columns</p>\n",
       "</div>"
      ],
      "text/plain": [
       "             date      time  temperature\n",
       "2      20/08/2021  03:24:44           22\n",
       "3      20/08/2021  03:25:19           23\n",
       "4      24/08/2021  12:06:52           37\n",
       "5      24/08/2021  12:07:04           38\n",
       "7      24/08/2021  12:07:39           37\n",
       "...           ...       ...          ...\n",
       "16759  05/09/2021  05:25:02           31\n",
       "16816  05/09/2021  05:52:45           30\n",
       "16859  05/09/2021  06:11:55           30\n",
       "17020  06/09/2021  07:29:33           30\n",
       "17150  06/09/2021  08:30:03           30\n",
       "\n",
       "[3114 rows x 3 columns]"
      ]
     },
     "execution_count": 150,
     "metadata": {},
     "output_type": "execute_result"
    }
   ],
   "source": [
    "# def clean(df):\n",
    "df_temp =  df[['date','time','temperature']]\t\n",
    "df_temp = df_temp[df_temp['temperature'] > 1]\n",
    "df_temp = df_temp[df_temp['temperature'] <= 100]\n",
    "df_temp = df_temp[(df_temp['temperature'] >= 20) & (df_temp['temperature'] <= 50)]\n",
    "df_temp"
   ]
  },
  {
   "cell_type": "code",
   "execution_count": 151,
   "id": "42560215-053b-4fbb-a76b-12250cdb05bf",
   "metadata": {},
   "outputs": [
    {
     "data": {
      "text/plain": [
       "array([[<AxesSubplot:title={'center':'temperature'}>]], dtype=object)"
      ]
     },
     "execution_count": 151,
     "metadata": {},
     "output_type": "execute_result"
    },
    {
     "data": {
      "image/png": "[encoded data removed]",
      "text/plain": [
       "<Figure size 432x288 with 1 Axes>"
      ]
     },
     "metadata": {
      "needs_background": "light"
     },
     "output_type": "display_data"
    }
   ],
   "source": [
    "df_temp[['temperature']].hist(bins =100)"
   ]
  },
  {
   "cell_type": "code",
   "execution_count": 152,
   "id": "9307d814-8157-4b66-af0a-968221fffb87",
   "metadata": {},
   "outputs": [
    {
     "name": "stdout",
     "output_type": "stream",
     "text": [
      "critical: 24.5 44.5\n",
      "alert: 27.0 39.0\n"
     ]
    }
   ],
   "source": [
    "q25,q75 = df_temp['temperature'].quantile([0.25,0.75])\n",
    "q5,q95 = df_temp['temperature'].quantile([0.05,0.95])\n",
    "\n",
    "iqr = q75 - q25\n",
    "lower_temp = q25 - (1.5*iqr)\n",
    "upper_temp = q75 + (1.5*iqr)\n",
    "print('critical:',lower_temp, upper_temp)\n",
    "print('alert:',q5,q95)"
   ]
  },
  {
   "cell_type": "code",
   "execution_count": null,
   "id": "8cad3505-0edd-48f8-b270-4d5bb8431bd3",
   "metadata": {},
   "outputs": [],
   "source": []
  },
  {
   "cell_type": "code",
   "execution_count": null,
   "id": "f3d79526-15bc-4881-8a6d-4b54d4021b9e",
   "metadata": {},
   "outputs": [],
   "source": []
  },
  {
   "cell_type": "code",
   "execution_count": null,
   "id": "f2310215-891a-4550-98a1-c0420db04148",
   "metadata": {},
   "outputs": [],
   "source": []
  }
 ],
 "metadata": {
  "kernelspec": {
   "display_name": "Python 3 (ipykernel)",
   "language": "python",
   "name": "python3"
  },
  "language_info": {
   "codemirror_mode": {
    "name": "ipython",
    "version": 3
   },
   "file_extension": ".py",
   "mimetype": "text/x-python",
   "name": "python",
   "nbconvert_exporter": "python",
   "pygments_lexer": "ipython3",
   "version": "3.7.11"
  }
 },
 "nbformat": 4,
 "nbformat_minor": 5
}
