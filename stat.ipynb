{
 "cells": [
  {
   "cell_type": "markdown",
   "id": "24f7fbe3-8499-4525-9149-86eda41b14d7",
   "metadata": {
    "tags": []
   },
   "source": [
    "# test"
   ]
  },
  {
   "cell_type": "code",
   "execution_count": 27,
   "id": "de4d9355-2c3a-4069-9aac-ae0640853043",
   "metadata": {},
   "outputs": [],
   "source": [
    "import numpy as np\n",
    "import pandas as pd\n",
    "from scipy import stats\n",
    "from scipy.stats import skewtest\n",
    "import math"
   ]
  },
  {
   "cell_type": "code",
   "execution_count": 79,
   "id": "3d28c1b3-a704-4669-89c9-6d7c892c0c9c",
   "metadata": {},
   "outputs": [],
   "source": [
    "mu, sigma = 3, 2 # mean and standard deviation\n",
    "x = np.random.normal(mu, sigma, 20000)\n",
    "# x = 1./(np.sqrt(2.*np.pi)) * np.exp( -.5*(x)**2  )\n",
    "# x = np.random.rand(200000) #uniform"
   ]
  },
  {
   "cell_type": "code",
   "execution_count": 80,
   "id": "aa475e51-ab74-4a63-b758-f40f29e6a454",
   "metadata": {},
   "outputs": [],
   "source": [
    "df = pd.DataFrame(x, columns = ['val'])"
   ]
  },
  {
   "cell_type": "code",
   "execution_count": 81,
   "id": "01e1d562-0c80-4960-b03d-98a6d35433e5",
   "metadata": {},
   "outputs": [
    {
     "data": {
      "text/plain": [
       "array([[<AxesSubplot:title={'center':'val'}>]], dtype=object)"
      ]
     },
     "execution_count": 81,
     "metadata": {},
     "output_type": "execute_result"
    },
    {
     "data": {
      "image/png": "[encoded data removed]",
      "text/plain": [
       "<Figure size 432x288 with 1 Axes>"
      ]
     },
     "metadata": {
      "needs_background": "light"
     },
     "output_type": "display_data"
    }
   ],
   "source": [
    "df.hist(bins = 100)"
   ]
  },
  {
   "cell_type": "code",
   "execution_count": null,
   "id": "faeb48dd-a15b-4ff2-846a-ccdc69cb5e24",
   "metadata": {},
   "outputs": [],
   "source": []
  },
  {
   "cell_type": "code",
   "execution_count": 75,
   "id": "53e075a1-3f96-466d-b949-35bfce3e9e01",
   "metadata": {},
   "outputs": [
    {
     "data": {
      "text/html": [
       "<div>\n",
       "<style scoped>\n",
       "    .dataframe tbody tr th:only-of-type {\n",
       "        vertical-align: middle;\n",
       "    }\n",
       "\n",
       "    .dataframe tbody tr th {\n",
       "        vertical-align: top;\n",
       "    }\n",
       "\n",
       "    .dataframe thead th {\n",
       "        text-align: right;\n",
       "    }\n",
       "</style>\n",
       "<table border=\"1\" class=\"dataframe\">\n",
       "  <thead>\n",
       "    <tr style=\"text-align: right;\">\n",
       "      <th></th>\n",
       "      <th>val</th>\n",
       "    </tr>\n",
       "  </thead>\n",
       "  <tbody>\n",
       "    <tr>\n",
       "      <th>0</th>\n",
       "      <td>2.351967</td>\n",
       "    </tr>\n",
       "    <tr>\n",
       "      <th>1</th>\n",
       "      <td>3.928597</td>\n",
       "    </tr>\n",
       "    <tr>\n",
       "      <th>2</th>\n",
       "      <td>5.333888</td>\n",
       "    </tr>\n",
       "    <tr>\n",
       "      <th>3</th>\n",
       "      <td>6.492307</td>\n",
       "    </tr>\n",
       "    <tr>\n",
       "      <th>4</th>\n",
       "      <td>5.049706</td>\n",
       "    </tr>\n",
       "    <tr>\n",
       "      <th>...</th>\n",
       "      <td>...</td>\n",
       "    </tr>\n",
       "    <tr>\n",
       "      <th>19995</th>\n",
       "      <td>-0.609536</td>\n",
       "    </tr>\n",
       "    <tr>\n",
       "      <th>19996</th>\n",
       "      <td>1.927845</td>\n",
       "    </tr>\n",
       "    <tr>\n",
       "      <th>19997</th>\n",
       "      <td>2.422953</td>\n",
       "    </tr>\n",
       "    <tr>\n",
       "      <th>19998</th>\n",
       "      <td>1.624407</td>\n",
       "    </tr>\n",
       "    <tr>\n",
       "      <th>19999</th>\n",
       "      <td>5.502493</td>\n",
       "    </tr>\n",
       "  </tbody>\n",
       "</table>\n",
       "<p>20000 rows × 1 columns</p>\n",
       "</div>"
      ],
      "text/plain": [
       "            val\n",
       "0      2.351967\n",
       "1      3.928597\n",
       "2      5.333888\n",
       "3      6.492307\n",
       "4      5.049706\n",
       "...         ...\n",
       "19995 -0.609536\n",
       "19996  1.927845\n",
       "19997  2.422953\n",
       "19998  1.624407\n",
       "19999  5.502493\n",
       "\n",
       "[20000 rows x 1 columns]"
      ]
     },
     "execution_count": 75,
     "metadata": {},
     "output_type": "execute_result"
    }
   ],
   "source": [
    "df"
   ]
  },
  {
   "cell_type": "code",
   "execution_count": 76,
   "id": "44e56133-7424-4ee5-bd93-ef227af34a51",
   "metadata": {},
   "outputs": [
    {
     "data": {
      "text/plain": [
       "<AxesSubplot:>"
      ]
     },
     "execution_count": 76,
     "metadata": {},
     "output_type": "execute_result"
    },
    {
     "data": {
      "image/png": "[encoded data removed]",
      "text/plain": [
       "<Figure size 432x288 with 1 Axes>"
      ]
     },
     "metadata": {
      "needs_background": "light"
     },
     "output_type": "display_data"
    }
   ],
   "source": [
    "x = [1,2,2,3,4,5,6,7,8,9,9]\n",
    "df = pd.DataFrame(x, columns=['val'])\n",
    "np.log10(df['val']).hist()\n",
    "# df"
   ]
  },
  {
   "cell_type": "code",
   "execution_count": 77,
   "id": "1b0ca7b3-ef6f-4b70-8903-fa3de6a62863",
   "metadata": {},
   "outputs": [
    {
     "data": {
      "text/plain": [
       "SkewtestResult(statistic=0.10793170906705281, pvalue=0.914049863840515)"
      ]
     },
     "execution_count": 77,
     "metadata": {},
     "output_type": "execute_result"
    }
   ],
   "source": [
    "skewtest(x) # --> statistic < 1"
   ]
  },
  {
   "cell_type": "code",
   "execution_count": 82,
   "id": "843c0376-360b-4e82-a304-bc057dfde591",
   "metadata": {},
   "outputs": [
    {
     "data": {
      "text/plain": [
       "array([[<AxesSubplot:title={'center':'val'}>]], dtype=object)"
      ]
     },
     "execution_count": 82,
     "metadata": {},
     "output_type": "execute_result"
    },
    {
     "data": {
      "image/png": "[encoded data removed]",
      "text/plain": [
       "<Figure size 432x288 with 1 Axes>"
      ]
     },
     "metadata": {
      "needs_background": "light"
     },
     "output_type": "display_data"
    }
   ],
   "source": [
    "df.hist()"
   ]
  },
  {
   "cell_type": "code",
   "execution_count": 83,
   "id": "6d4203ae-26fa-4d5f-b87a-43bb1d8313fb",
   "metadata": {},
   "outputs": [
    {
     "name": "stdout",
     "output_type": "stream",
     "text": [
      "stat = [1.67693569], p = [0.43237248]\n",
      "norm\n"
     ]
    }
   ],
   "source": [
    "from scipy.stats import normaltest\n",
    "\n",
    "stat, p = normaltest(df)\n",
    "print('stat = {0}, p = {1}'.format(stat, p))\n",
    "if p > 0.05:\n",
    "    print('norm')\n",
    "else:\n",
    "    print('not norm')\n"
   ]
  },
  {
   "cell_type": "code",
   "execution_count": 84,
   "id": "cf76c2b4-cef1-48a2-abbe-14eb390ac293",
   "metadata": {},
   "outputs": [
    {
     "name": "stdout",
     "output_type": "stream",
     "text": [
      "stat = 1.0, p = 0.0\n",
      "not norm\n"
     ]
    }
   ],
   "source": [
    "from scipy.stats import kstest\n",
    "stat, p = kstest(df, 'norm')\n",
    "print('stat = {0}, p = {1}'.format(stat, p))\n",
    "if p > 0.05:\n",
    "    print('norm')\n",
    "else:\n",
    "    print('not norm')"
   ]
  },
  {
   "cell_type": "code",
   "execution_count": 85,
   "id": "f83d29df-0a05-4912-a38a-0ead878517bd",
   "metadata": {},
   "outputs": [
    {
     "name": "stdout",
     "output_type": "stream",
     "text": [
      "stat = 0.9999265074729919, p = 0.8732671141624451\n",
      "norm\n"
     ]
    },
    {
     "name": "stderr",
     "output_type": "stream",
     "text": [
      "D:\\Miniconda\\envs\\data-sci\\lib\\site-packages\\scipy\\stats\\morestats.py:1760: UserWarning: p-value may not be accurate for N > 5000.\n",
      "  warnings.warn(\"p-value may not be accurate for N > 5000.\")\n"
     ]
    }
   ],
   "source": [
    "from scipy.stats import shapiro\n",
    "stat, p = shapiro(df)\n",
    "print('stat = {0}, p = {1}'.format(stat, p))\n",
    "if p > 0.05:\n",
    "    print('norm')\n",
    "else:\n",
    "    print('not norm')\n"
   ]
  },
  {
   "cell_type": "code",
   "execution_count": 86,
   "id": "550ebd9c-a5df-4762-8abb-7a971847b6ab",
   "metadata": {},
   "outputs": [
    {
     "name": "stdout",
     "output_type": "stream",
     "text": [
      "stat = -0.16794648722133607, p = 0.8666253779792008\n",
      "balance\n"
     ]
    }
   ],
   "source": [
    "from scipy.stats import skewtest\n",
    "\n",
    "stat, p = skewtest(x)\n",
    "print('stat = {0}, p = {1}'.format(stat, p))\n",
    "if stat < 1:\n",
    "    print('balance')\n",
    "else:\n",
    "    print('not balance')"
   ]
  },
  {
   "cell_type": "code",
   "execution_count": 87,
   "id": "89d78819-5433-437e-ba8a-f4033cf00ed8",
   "metadata": {},
   "outputs": [
    {
     "name": "stderr",
     "output_type": "stream",
     "text": [
      "D:\\Miniconda\\envs\\data-sci\\lib\\site-packages\\seaborn\\distributions.py:2619: FutureWarning: `distplot` is a deprecated function and will be removed in a future version. Please adapt your code to use either `displot` (a figure-level function with similar flexibility) or `histplot` (an axes-level function for histograms).\n",
      "  warnings.warn(msg, FutureWarning)\n"
     ]
    },
    {
     "data": {
      "image/png": "[encoded data removed]",
      "text/plain": [
       "<Figure size 432x288 with 1 Axes>"
      ]
     },
     "metadata": {
      "needs_background": "light"
     },
     "output_type": "display_data"
    }
   ],
   "source": [
    "import seaborn as sns\n",
    "ax = sns.distplot(df)"
   ]
  },
  {
   "cell_type": "code",
   "execution_count": null,
   "id": "3d4f3416-16da-4948-9b67-9686eae2dea8",
   "metadata": {},
   "outputs": [],
   "source": []
  },
  {
   "cell_type": "markdown",
   "id": "8a9e0c08-c37c-4680-a8f7-d63b173ca2a5",
   "metadata": {},
   "source": [
    "# real data"
   ]
  },
  {
   "cell_type": "code",
   "execution_count": 88,
   "id": "55b963ec-6497-42e8-a64c-0cd6533dd863",
   "metadata": {},
   "outputs": [],
   "source": [
    "import numpy as np\n",
    "import pandas as pd\n",
    "from scipy import stats\n",
    "from scipy.stats import skewtest\n",
    "# import math"
   ]
  },
  {
   "cell_type": "code",
   "execution_count": 151,
   "id": "8369c08e-a76c-42be-9050-d477fec489a4",
   "metadata": {},
   "outputs": [
    {
     "data": {
      "text/html": [
       "<div>\n",
       "<style scoped>\n",
       "    .dataframe tbody tr th:only-of-type {\n",
       "        vertical-align: middle;\n",
       "    }\n",
       "\n",
       "    .dataframe tbody tr th {\n",
       "        vertical-align: top;\n",
       "    }\n",
       "\n",
       "    .dataframe thead th {\n",
       "        text-align: right;\n",
       "    }\n",
       "</style>\n",
       "<table border=\"1\" class=\"dataframe\">\n",
       "  <thead>\n",
       "    <tr style=\"text-align: right;\">\n",
       "      <th></th>\n",
       "      <th>Unnamed: 0</th>\n",
       "      <th>date</th>\n",
       "      <th>time</th>\n",
       "      <th>temperature</th>\n",
       "      <th>voltage_1</th>\n",
       "      <th>voltage_2</th>\n",
       "      <th>voltage_3</th>\n",
       "      <th>voltage_4</th>\n",
       "      <th>voltage_5</th>\n",
       "      <th>voltage_6</th>\n",
       "      <th>...</th>\n",
       "      <th>pf_4</th>\n",
       "      <th>pf_5</th>\n",
       "      <th>pf_6</th>\n",
       "      <th>frequency_1</th>\n",
       "      <th>frequency_2</th>\n",
       "      <th>frequency_3</th>\n",
       "      <th>frequency_4</th>\n",
       "      <th>frequency_5</th>\n",
       "      <th>frequency_6</th>\n",
       "      <th>status</th>\n",
       "    </tr>\n",
       "  </thead>\n",
       "  <tbody>\n",
       "    <tr>\n",
       "      <th>0</th>\n",
       "      <td>0</td>\n",
       "      <td>20/08/2021</td>\n",
       "      <td>07:00:00</td>\n",
       "      <td>28</td>\n",
       "      <td>227</td>\n",
       "      <td>227</td>\n",
       "      <td>227</td>\n",
       "      <td>227</td>\n",
       "      <td>227</td>\n",
       "      <td>227</td>\n",
       "      <td>...</td>\n",
       "      <td>0</td>\n",
       "      <td>0</td>\n",
       "      <td>0</td>\n",
       "      <td>50</td>\n",
       "      <td>50</td>\n",
       "      <td>50</td>\n",
       "      <td>50</td>\n",
       "      <td>50</td>\n",
       "      <td>50</td>\n",
       "      <td>normal</td>\n",
       "    </tr>\n",
       "    <tr>\n",
       "      <th>1</th>\n",
       "      <td>1</td>\n",
       "      <td>20/08/2021</td>\n",
       "      <td>07:00:00</td>\n",
       "      <td>28</td>\n",
       "      <td>227</td>\n",
       "      <td>226</td>\n",
       "      <td>227</td>\n",
       "      <td>228</td>\n",
       "      <td>228</td>\n",
       "      <td>228</td>\n",
       "      <td>...</td>\n",
       "      <td>0</td>\n",
       "      <td>0</td>\n",
       "      <td>0</td>\n",
       "      <td>49</td>\n",
       "      <td>50</td>\n",
       "      <td>50</td>\n",
       "      <td>49</td>\n",
       "      <td>49</td>\n",
       "      <td>49</td>\n",
       "      <td>normal</td>\n",
       "    </tr>\n",
       "    <tr>\n",
       "      <th>2</th>\n",
       "      <td>2</td>\n",
       "      <td>20/08/2021</td>\n",
       "      <td>07:00:00</td>\n",
       "      <td>28</td>\n",
       "      <td>227</td>\n",
       "      <td>227</td>\n",
       "      <td>227</td>\n",
       "      <td>227</td>\n",
       "      <td>227</td>\n",
       "      <td>227</td>\n",
       "      <td>...</td>\n",
       "      <td>0</td>\n",
       "      <td>0</td>\n",
       "      <td>0</td>\n",
       "      <td>49</td>\n",
       "      <td>49</td>\n",
       "      <td>50</td>\n",
       "      <td>49</td>\n",
       "      <td>49</td>\n",
       "      <td>49</td>\n",
       "      <td>normal</td>\n",
       "    </tr>\n",
       "    <tr>\n",
       "      <th>3</th>\n",
       "      <td>3</td>\n",
       "      <td>20/08/2021</td>\n",
       "      <td>07:00:00</td>\n",
       "      <td>28</td>\n",
       "      <td>227</td>\n",
       "      <td>227</td>\n",
       "      <td>228</td>\n",
       "      <td>227</td>\n",
       "      <td>227</td>\n",
       "      <td>227</td>\n",
       "      <td>...</td>\n",
       "      <td>0</td>\n",
       "      <td>0</td>\n",
       "      <td>0</td>\n",
       "      <td>49</td>\n",
       "      <td>49</td>\n",
       "      <td>49</td>\n",
       "      <td>50</td>\n",
       "      <td>49</td>\n",
       "      <td>50</td>\n",
       "      <td>normal</td>\n",
       "    </tr>\n",
       "    <tr>\n",
       "      <th>4</th>\n",
       "      <td>4</td>\n",
       "      <td>20/08/2021</td>\n",
       "      <td>07:00:00</td>\n",
       "      <td>28</td>\n",
       "      <td>228</td>\n",
       "      <td>227</td>\n",
       "      <td>228</td>\n",
       "      <td>227</td>\n",
       "      <td>227</td>\n",
       "      <td>228</td>\n",
       "      <td>...</td>\n",
       "      <td>0</td>\n",
       "      <td>0</td>\n",
       "      <td>0</td>\n",
       "      <td>50</td>\n",
       "      <td>49</td>\n",
       "      <td>49</td>\n",
       "      <td>50</td>\n",
       "      <td>50</td>\n",
       "      <td>50</td>\n",
       "      <td>normal</td>\n",
       "    </tr>\n",
       "    <tr>\n",
       "      <th>...</th>\n",
       "      <td>...</td>\n",
       "      <td>...</td>\n",
       "      <td>...</td>\n",
       "      <td>...</td>\n",
       "      <td>...</td>\n",
       "      <td>...</td>\n",
       "      <td>...</td>\n",
       "      <td>...</td>\n",
       "      <td>...</td>\n",
       "      <td>...</td>\n",
       "      <td>...</td>\n",
       "      <td>...</td>\n",
       "      <td>...</td>\n",
       "      <td>...</td>\n",
       "      <td>...</td>\n",
       "      <td>...</td>\n",
       "      <td>...</td>\n",
       "      <td>...</td>\n",
       "      <td>...</td>\n",
       "      <td>...</td>\n",
       "      <td>...</td>\n",
       "    </tr>\n",
       "    <tr>\n",
       "      <th>50616</th>\n",
       "      <td>50616</td>\n",
       "      <td>14/10/2021</td>\n",
       "      <td>15:47:25</td>\n",
       "      <td>35</td>\n",
       "      <td>238</td>\n",
       "      <td>238</td>\n",
       "      <td>240</td>\n",
       "      <td>237</td>\n",
       "      <td>238</td>\n",
       "      <td>240</td>\n",
       "      <td>...</td>\n",
       "      <td>0</td>\n",
       "      <td>0</td>\n",
       "      <td>0</td>\n",
       "      <td>50</td>\n",
       "      <td>49</td>\n",
       "      <td>50</td>\n",
       "      <td>50</td>\n",
       "      <td>50</td>\n",
       "      <td>50</td>\n",
       "      <td>normal</td>\n",
       "    </tr>\n",
       "    <tr>\n",
       "      <th>50617</th>\n",
       "      <td>50617</td>\n",
       "      <td>14/10/2021</td>\n",
       "      <td>15:47:37</td>\n",
       "      <td>35</td>\n",
       "      <td>238</td>\n",
       "      <td>238</td>\n",
       "      <td>240</td>\n",
       "      <td>237</td>\n",
       "      <td>238</td>\n",
       "      <td>240</td>\n",
       "      <td>...</td>\n",
       "      <td>0</td>\n",
       "      <td>0</td>\n",
       "      <td>0</td>\n",
       "      <td>50</td>\n",
       "      <td>49</td>\n",
       "      <td>49</td>\n",
       "      <td>50</td>\n",
       "      <td>50</td>\n",
       "      <td>49</td>\n",
       "      <td>normal</td>\n",
       "    </tr>\n",
       "    <tr>\n",
       "      <th>50618</th>\n",
       "      <td>50618</td>\n",
       "      <td>14/10/2021</td>\n",
       "      <td>15:47:49</td>\n",
       "      <td>35</td>\n",
       "      <td>238</td>\n",
       "      <td>238</td>\n",
       "      <td>240</td>\n",
       "      <td>237</td>\n",
       "      <td>238</td>\n",
       "      <td>241</td>\n",
       "      <td>...</td>\n",
       "      <td>0</td>\n",
       "      <td>0</td>\n",
       "      <td>0</td>\n",
       "      <td>50</td>\n",
       "      <td>49</td>\n",
       "      <td>50</td>\n",
       "      <td>49</td>\n",
       "      <td>49</td>\n",
       "      <td>49</td>\n",
       "      <td>normal</td>\n",
       "    </tr>\n",
       "    <tr>\n",
       "      <th>50817</th>\n",
       "      <td>50817</td>\n",
       "      <td>14/10/2021</td>\n",
       "      <td>17:21:26</td>\n",
       "      <td>45</td>\n",
       "      <td>0</td>\n",
       "      <td>-1</td>\n",
       "      <td>-1</td>\n",
       "      <td>-1</td>\n",
       "      <td>-1</td>\n",
       "      <td>-1</td>\n",
       "      <td>...</td>\n",
       "      <td>-1</td>\n",
       "      <td>-1</td>\n",
       "      <td>-1</td>\n",
       "      <td>-1</td>\n",
       "      <td>-1</td>\n",
       "      <td>-1</td>\n",
       "      <td>-1</td>\n",
       "      <td>-1</td>\n",
       "      <td>-1</td>\n",
       "      <td>normal</td>\n",
       "    </tr>\n",
       "    <tr>\n",
       "      <th>51004</th>\n",
       "      <td>51004</td>\n",
       "      <td>14/10/2021</td>\n",
       "      <td>18:47:35</td>\n",
       "      <td>42</td>\n",
       "      <td>-1</td>\n",
       "      <td>-1</td>\n",
       "      <td>-1</td>\n",
       "      <td>-1</td>\n",
       "      <td>-1</td>\n",
       "      <td>-1</td>\n",
       "      <td>...</td>\n",
       "      <td>-1</td>\n",
       "      <td>-1</td>\n",
       "      <td>-1</td>\n",
       "      <td>-1</td>\n",
       "      <td>-1</td>\n",
       "      <td>-1</td>\n",
       "      <td>-1</td>\n",
       "      <td>-1</td>\n",
       "      <td>-1</td>\n",
       "      <td>normal</td>\n",
       "    </tr>\n",
       "  </tbody>\n",
       "</table>\n",
       "<p>9760 rows × 29 columns</p>\n",
       "</div>"
      ],
      "text/plain": [
       "       Unnamed: 0        date      time  temperature  voltage_1  voltage_2  \\\n",
       "0               0  20/08/2021  07:00:00           28        227        227   \n",
       "1               1  20/08/2021  07:00:00           28        227        226   \n",
       "2               2  20/08/2021  07:00:00           28        227        227   \n",
       "3               3  20/08/2021  07:00:00           28        227        227   \n",
       "4               4  20/08/2021  07:00:00           28        228        227   \n",
       "...           ...         ...       ...          ...        ...        ...   \n",
       "50616       50616  14/10/2021  15:47:25           35        238        238   \n",
       "50617       50617  14/10/2021  15:47:37           35        238        238   \n",
       "50618       50618  14/10/2021  15:47:49           35        238        238   \n",
       "50817       50817  14/10/2021  17:21:26           45          0         -1   \n",
       "51004       51004  14/10/2021  18:47:35           42         -1         -1   \n",
       "\n",
       "       voltage_3  voltage_4  voltage_5  voltage_6  ...  pf_4  pf_5  pf_6  \\\n",
       "0            227        227        227        227  ...     0     0     0   \n",
       "1            227        228        228        228  ...     0     0     0   \n",
       "2            227        227        227        227  ...     0     0     0   \n",
       "3            228        227        227        227  ...     0     0     0   \n",
       "4            228        227        227        228  ...     0     0     0   \n",
       "...          ...        ...        ...        ...  ...   ...   ...   ...   \n",
       "50616        240        237        238        240  ...     0     0     0   \n",
       "50617        240        237        238        240  ...     0     0     0   \n",
       "50618        240        237        238        241  ...     0     0     0   \n",
       "50817         -1         -1         -1         -1  ...    -1    -1    -1   \n",
       "51004         -1         -1         -1         -1  ...    -1    -1    -1   \n",
       "\n",
       "       frequency_1  frequency_2  frequency_3  frequency_4  frequency_5  \\\n",
       "0               50           50           50           50           50   \n",
       "1               49           50           50           49           49   \n",
       "2               49           49           50           49           49   \n",
       "3               49           49           49           50           49   \n",
       "4               50           49           49           50           50   \n",
       "...            ...          ...          ...          ...          ...   \n",
       "50616           50           49           50           50           50   \n",
       "50617           50           49           49           50           50   \n",
       "50618           50           49           50           49           49   \n",
       "50817           -1           -1           -1           -1           -1   \n",
       "51004           -1           -1           -1           -1           -1   \n",
       "\n",
       "       frequency_6  status  \n",
       "0               50  normal  \n",
       "1               49  normal  \n",
       "2               49  normal  \n",
       "3               50  normal  \n",
       "4               50  normal  \n",
       "...            ...     ...  \n",
       "50616           50  normal  \n",
       "50617           49  normal  \n",
       "50618           49  normal  \n",
       "50817           -1  normal  \n",
       "51004           -1  normal  \n",
       "\n",
       "[9760 rows x 29 columns]"
      ]
     },
     "execution_count": 151,
     "metadata": {},
     "output_type": "execute_result"
    }
   ],
   "source": [
    "df = pd.read_csv('data/20-10-21/R1L1-J3-data.csv')\n",
    "df = df[df['status'] == 'normal']\n",
    "# df = df[(df['date'] == '05/09/2021') | (df['date'] == '06/09/2021')]\n",
    "df"
   ]
  },
  {
   "cell_type": "code",
   "execution_count": 286,
   "id": "2f746342-b7d7-4f26-b12e-45d3264428df",
   "metadata": {},
   "outputs": [
    {
     "data": {
      "text/plain": [
       "16    1646\n",
       "17    1400\n",
       "18     607\n",
       "19     386\n",
       "20     317\n",
       "      ... \n",
       "94       1\n",
       "80       1\n",
       "97       1\n",
       "83       1\n",
       "82       1\n",
       "Name: current_3, Length: 73, dtype: int64"
      ]
     },
     "execution_count": 286,
     "metadata": {},
     "output_type": "execute_result"
    }
   ],
   "source": [
    "# def clean(df):\n",
    "focus = 'current_3'\n",
    "df_focus =  df[['date','time', focus]]\t\n",
    "\n",
    "df_focus = df_focus[df_focus[focus] > 1]\n",
    "df_focus = df_focus[df_focus[focus] < 100]\n",
    "\n",
    "df_focus[focus].value_counts()"
   ]
  },
  {
   "cell_type": "code",
   "execution_count": 312,
   "id": "55a03b7a-dbcc-411d-8a2f-d5a6ab37d10e",
   "metadata": {},
   "outputs": [
    {
     "data": {
      "text/plain": [
       "array([<AxesSubplot:title={'center':'current_3'}>], dtype=object)"
      ]
     },
     "execution_count": 312,
     "metadata": {},
     "output_type": "execute_result"
    },
    {
     "data": {
      "image/png": "[encoded data removed]",
      "text/plain": [
       "<Figure size 1440x360 with 1 Axes>"
      ]
     },
     "metadata": {
      "needs_background": "light"
     },
     "output_type": "display_data"
    }
   ],
   "source": [
    "from matplotlib import pyplot as plt\n",
    "\n",
    "fig, axes = plt.subplots(1, 1, figsize=(20,5))\n",
    "df_focus[[focus]].hist(bins = 300,ax=axes)"
   ]
  },
  {
   "cell_type": "code",
   "execution_count": 258,
   "id": "6ed98c08-1e2e-4abf-b468-410092499619",
   "metadata": {},
   "outputs": [],
   "source": [
    "from scipy.stats import normaltest\n",
    "from scipy.stats import kstest\n",
    "from scipy.stats import shapiro\n",
    "from scipy.stats import skewtest\n",
    "from scipy.stats import skew\n",
    "import seaborn as sns\n",
    "\n",
    "def stat_check(df_focus):\n",
    "    print('===================normaltest=========================')\n",
    "    stat, p = normaltest(df_focus['tranform'])\n",
    "    print('stat = {0}, p = {1}'.format(stat, p))\n",
    "    if p > 0.05:\n",
    "        print('norm')\n",
    "    else:\n",
    "        print('not norm')\n",
    "    print('\\n')\n",
    "\n",
    "    print('===================kstest=========================')\n",
    "    stat, p = kstest(df_focus['tranform'], 'norm')\n",
    "    print('stat = {0}, p = {1}'.format(stat, p))\n",
    "    if p > 0.05:\n",
    "        print('norm')\n",
    "    else:\n",
    "        print('not norm')\n",
    "    print('\\n')\n",
    "\n",
    "\n",
    "\n",
    "    print('===================shapiro=========================')\n",
    "    stat, p = shapiro(df_focus['tranform'])\n",
    "    print('stat = {0}, p = {1}'.format(stat, p))\n",
    "    if p > 0.05:\n",
    "        print('norm')\n",
    "    else:\n",
    "        print('not norm')\n",
    "    print('\\n')\n",
    "\n",
    "\n",
    "\n",
    "    print('===================skwness=========================')\n",
    "    stat, p = skewtest(df_focus['tranform'])\n",
    "    print('stat = {0}, p = {1}'.format(stat, p))\n",
    "    if stat < 1:\n",
    "        print('balance')\n",
    "    else:\n",
    "        print('not balance')\n",
    "    print('\\n')\n",
    "    \n",
    "    print('===================skew=========================')\n",
    "    stat= skew(df_focus['tranform'])\n",
    "    print('stat = {0}'.format(stat))\n",
    "    if stat < 1:\n",
    "        print('balance')\n",
    "    else:\n",
    "        print('not balance')\n",
    "    print('\\n')\n",
    "\n",
    "    ax = sns.distplot(df_focus['tranform'])"
   ]
  },
  {
   "cell_type": "code",
   "execution_count": 259,
   "id": "aebec847-8cff-4ba0-8be5-6d56c98fc68a",
   "metadata": {},
   "outputs": [
    {
     "name": "stdout",
     "output_type": "stream",
     "text": [
      "===================normaltest=========================\n",
      "stat = 459.4136704649744, p = 1.7361570294806788e-100\n",
      "not norm\n",
      "\n",
      "\n",
      "===================kstest=========================\n",
      "stat = 0.8780513732809805, p = 0.0\n",
      "not norm\n",
      "\n",
      "\n",
      "===================shapiro=========================\n",
      "stat = 0.9015942811965942, p = 0.0\n",
      "not norm\n",
      "\n",
      "\n",
      "===================skwness=========================\n",
      "stat = 20.55624694248456, p = 6.766917292466562e-94\n",
      "not balance\n",
      "\n",
      "\n",
      "===================skew=========================\n",
      "stat = 0.5453971831516367\n",
      "balance\n",
      "\n",
      "\n"
     ]
    },
    {
     "name": "stderr",
     "output_type": "stream",
     "text": [
      "D:\\Miniconda\\envs\\data-sci\\lib\\site-packages\\scipy\\stats\\morestats.py:1760: UserWarning: p-value may not be accurate for N > 5000.\n",
      "  warnings.warn(\"p-value may not be accurate for N > 5000.\")\n",
      "D:\\Miniconda\\envs\\data-sci\\lib\\site-packages\\seaborn\\distributions.py:2619: FutureWarning: `distplot` is a deprecated function and will be removed in a future version. Please adapt your code to use either `displot` (a figure-level function with similar flexibility) or `histplot` (an axes-level function for histograms).\n",
      "  warnings.warn(msg, FutureWarning)\n"
     ]
    },
    {
     "data": {
      "image/png": "[encoded data removed]",
      "text/plain": [
       "<Figure size 432x288 with 1 Axes>"
      ]
     },
     "metadata": {
      "needs_background": "light"
     },
     "output_type": "display_data"
    }
   ],
   "source": [
    "df_focus['tranform'] = np.log10((df_focus[focus]))\n",
    "# df_focus['tranform'].hist(bins = 100)\n",
    "stat_check(df_focus)"
   ]
  },
  {
   "cell_type": "code",
   "execution_count": 260,
   "id": "dae3c040-452d-44fa-b24b-d6d5aa799196",
   "metadata": {},
   "outputs": [
    {
     "name": "stdout",
     "output_type": "stream",
     "text": [
      "===================normaltest=========================\n",
      "stat = 2246.8703947491585, p = 0.0\n",
      "not norm\n",
      "\n",
      "\n",
      "===================kstest=========================\n",
      "stat = 0.545375328153459, p = 0.0\n",
      "not norm\n",
      "\n",
      "\n",
      "===================shapiro=========================\n",
      "stat = 0.8782811164855957, p = 0.0\n",
      "not norm\n",
      "\n",
      "\n",
      "===================skwness=========================\n",
      "stat = -22.97160884298613, p = 8.963071011843626e-117\n",
      "balance\n",
      "\n",
      "\n",
      "===================skew=========================\n",
      "stat = -0.6191702832507686\n",
      "balance\n",
      "\n",
      "\n"
     ]
    },
    {
     "name": "stderr",
     "output_type": "stream",
     "text": [
      "D:\\Miniconda\\envs\\data-sci\\lib\\site-packages\\scipy\\stats\\morestats.py:1760: UserWarning: p-value may not be accurate for N > 5000.\n",
      "  warnings.warn(\"p-value may not be accurate for N > 5000.\")\n",
      "D:\\Miniconda\\envs\\data-sci\\lib\\site-packages\\seaborn\\distributions.py:2619: FutureWarning: `distplot` is a deprecated function and will be removed in a future version. Please adapt your code to use either `displot` (a figure-level function with similar flexibility) or `histplot` (an axes-level function for histograms).\n",
      "  warnings.warn(msg, FutureWarning)\n"
     ]
    },
    {
     "data": {
      "image/png": "[encoded data removed]",
      "text/plain": [
       "<Figure size 432x288 with 1 Axes>"
      ]
     },
     "metadata": {
      "needs_background": "light"
     },
     "output_type": "display_data"
    }
   ],
   "source": [
    "df_focus['tranform'] = -1/np.sqrt(df_focus[focus])\n",
    "# df_focus['tranform'].hist(bins = 100)\n",
    "stat_check(df_focus)"
   ]
  },
  {
   "cell_type": "code",
   "execution_count": 261,
   "id": "c1ac18c2-ae39-438e-a957-beaa33cd6af8",
   "metadata": {},
   "outputs": [
    {
     "name": "stdout",
     "output_type": "stream",
     "text": [
      "===================normaltest=========================\n",
      "stat = 1300.8724471631695, p = 3.304739782564398e-283\n",
      "not norm\n",
      "\n",
      "\n",
      "===================kstest=========================\n",
      "stat = 0.9989788426173934, p = 0.0\n",
      "not norm\n",
      "\n",
      "\n",
      "===================shapiro=========================\n",
      "stat = 0.8774201273918152, p = 0.0\n",
      "not norm\n",
      "\n",
      "\n",
      "===================skwness=========================\n",
      "stat = 34.59997004052897, p = 2.5290739761300047e-262\n",
      "not balance\n",
      "\n",
      "\n",
      "===================skew=========================\n",
      "stat = 1.028867823671843\n",
      "not balance\n",
      "\n",
      "\n"
     ]
    },
    {
     "name": "stderr",
     "output_type": "stream",
     "text": [
      "D:\\Miniconda\\envs\\data-sci\\lib\\site-packages\\scipy\\stats\\morestats.py:1760: UserWarning: p-value may not be accurate for N > 5000.\n",
      "  warnings.warn(\"p-value may not be accurate for N > 5000.\")\n",
      "D:\\Miniconda\\envs\\data-sci\\lib\\site-packages\\seaborn\\distributions.py:2619: FutureWarning: `distplot` is a deprecated function and will be removed in a future version. Please adapt your code to use either `displot` (a figure-level function with similar flexibility) or `histplot` (an axes-level function for histograms).\n",
      "  warnings.warn(msg, FutureWarning)\n"
     ]
    },
    {
     "data": {
      "image/png": "[encoded data removed]",
      "text/plain": [
       "<Figure size 432x288 with 1 Axes>"
      ]
     },
     "metadata": {
      "needs_background": "light"
     },
     "output_type": "display_data"
    }
   ],
   "source": [
    "df_focus['tranform'] = np.sqrt(df_focus[focus])\n",
    "# df_focus['tranform'].hist(bins = 100)\n",
    "stat_check(df_focus)"
   ]
  },
  {
   "cell_type": "code",
   "execution_count": 305,
   "id": "cd04a169-dc0e-4374-82b8-29041a4755b5",
   "metadata": {},
   "outputs": [
    {
     "name": "stdout",
     "output_type": "stream",
     "text": [
      "===================normaltest=========================\n",
      "stat = 990.5678179665041, p = 7.960335151755336e-216\n",
      "not norm\n",
      "\n",
      "\n",
      "===================kstest=========================\n",
      "stat = 0.9559457687456445, p = 0.0\n",
      "not norm\n",
      "\n",
      "\n",
      "===================shapiro=========================\n",
      "stat = 0.8931649923324585, p = 0.0\n",
      "not norm\n",
      "\n",
      "\n",
      "===================skwness=========================\n",
      "stat = -4.483206208850312, p = 7.352981199672045e-06\n",
      "balance\n",
      "\n",
      "\n",
      "===================skew=========================\n",
      "stat = -0.11187614589252928\n",
      "balance\n",
      "\n",
      "\n",
      "-0.36035272205469565\n"
     ]
    },
    {
     "name": "stderr",
     "output_type": "stream",
     "text": [
      "D:\\Miniconda\\envs\\data-sci\\lib\\site-packages\\scipy\\stats\\morestats.py:1760: UserWarning: p-value may not be accurate for N > 5000.\n",
      "  warnings.warn(\"p-value may not be accurate for N > 5000.\")\n",
      "D:\\Miniconda\\envs\\data-sci\\lib\\site-packages\\seaborn\\distributions.py:2619: FutureWarning: `distplot` is a deprecated function and will be removed in a future version. Please adapt your code to use either `displot` (a figure-level function with similar flexibility) or `histplot` (an axes-level function for histograms).\n",
      "  warnings.warn(msg, FutureWarning)\n"
     ]
    },
    {
     "data": {
      "image/png": "[encoded data removed]",
      "text/plain": [
       "<Figure size 432x288 with 1 Axes>"
      ]
     },
     "metadata": {
      "needs_background": "light"
     },
     "output_type": "display_data"
    }
   ],
   "source": [
    "from scipy import stats\n",
    "df_focus['tranform'], lamda = stats.boxcox(df_focus[focus])\n",
    "# df_focus['tranform'].hist(bins = 50)\n",
    "stat_check(df_focus)\n",
    "print(lamda)"
   ]
  },
  {
   "cell_type": "code",
   "execution_count": 327,
   "id": "f66f8db5-fe9f-4dc1-8c73-a5bc9ba9f605",
   "metadata": {},
   "outputs": [
    {
     "name": "stdout",
     "output_type": "stream",
     "text": [
      "===================normaltest=========================\n",
      "stat = 888.5570621733349, p = 1.1279387604076788e-193\n",
      "not norm\n",
      "\n",
      "\n",
      "===================kstest=========================\n",
      "stat = 0.9346622735285582, p = 0.0\n",
      "not norm\n",
      "\n",
      "\n",
      "===================shapiro=========================\n",
      "stat = 0.8952360153198242, p = 0.0\n",
      "not norm\n",
      "\n",
      "\n",
      "===================skwness=========================\n",
      "stat = -4.306211366160761, p = 1.6607437922225777e-05\n",
      "balance\n",
      "\n",
      "\n",
      "===================skew=========================\n",
      "stat = -0.10743355802991403\n",
      "balance\n",
      "\n",
      "\n",
      "-0.48246099632630257\n"
     ]
    },
    {
     "name": "stderr",
     "output_type": "stream",
     "text": [
      "D:\\Miniconda\\envs\\data-sci\\lib\\site-packages\\scipy\\stats\\morestats.py:1760: UserWarning: p-value may not be accurate for N > 5000.\n",
      "  warnings.warn(\"p-value may not be accurate for N > 5000.\")\n",
      "D:\\Miniconda\\envs\\data-sci\\lib\\site-packages\\seaborn\\distributions.py:2619: FutureWarning: `distplot` is a deprecated function and will be removed in a future version. Please adapt your code to use either `displot` (a figure-level function with similar flexibility) or `histplot` (an axes-level function for histograms).\n",
      "  warnings.warn(msg, FutureWarning)\n"
     ]
    },
    {
     "data": {
      "image/png": "[encoded data removed]",
      "text/plain": [
       "<Figure size 432x288 with 1 Axes>"
      ]
     },
     "metadata": {
      "needs_background": "light"
     },
     "output_type": "display_data"
    }
   ],
   "source": [
    "from scipy import stats\n",
    "df_focus['tranform'], lamda = stats.yeojohnson(df_focus[focus])\n",
    "# df_focus['tranform'].hist(bins = 50)\n",
    "stat_check(df_focus)\n",
    "print(lamda)"
   ]
  },
  {
   "cell_type": "code",
   "execution_count": 333,
   "id": "17e33da2-e30d-41f8-9308-24ee153f5e89",
   "metadata": {},
   "outputs": [
    {
     "name": "stdout",
     "output_type": "stream",
     "text": [
      "critical: -5.5,54.5\n",
      "alert: 16.0,60.0\n",
      "\n",
      " tranform\n",
      "critical: 1.4284450632379615,1.8193901227997562\n",
      "alert: 1.5443899062833246,1.7874825988575813\n"
     ]
    }
   ],
   "source": [
    "q25,q75 = df_focus[focus].quantile([0.25,0.75])\n",
    "q2,q98 = df_focus[focus].quantile([0.02,0.98])\n",
    "\n",
    "iqr = q75 - q25\n",
    "lower_temp = q25 - (1.5*iqr)\n",
    "upper_temp = q75 + (1.5*iqr)\n",
    "print('critical: {0},{1}'.format(lower_temp, upper_temp))\n",
    "print('alert: {0},{1}'.format(q2,q98))\n",
    "\n",
    "print('\\n tranform')\n",
    "q25,q75 = df_focus['tranform'].quantile([0.25,0.75])\n",
    "q2,q98 = df_focus['tranform'].quantile([0.02,0.98])\n",
    "\n",
    "iqr = q75 - q25\n",
    "lower_temp = q25 - (iqr)\n",
    "upper_temp = q75 + (iqr)\n",
    "print('critical: {0},{1}'.format(lower_temp, upper_temp))\n",
    "print('alert: {0},{1}'.format(q2,q98))"
   ]
  },
  {
   "cell_type": "code",
   "execution_count": 334,
   "id": "e4bd2c85-ef40-4edb-81eb-50ad307becf1",
   "metadata": {},
   "outputs": [
    {
     "data": {
      "text/plain": [
       "array([0.58915514, 1.7874826 ])"
      ]
     },
     "execution_count": 334,
     "metadata": {},
     "output_type": "execute_result"
    }
   ],
   "source": [
    "# df_focus.median()\n",
    "# stats.boxcox([1, 60],-0.36035272205469565)\n",
    "stats.yeojohnson([1, 60],-0.48246099632630257)"
   ]
  },
  {
   "cell_type": "code",
   "execution_count": 188,
   "id": "d4867a56-2c5a-4b90-80ce-0029bc802e0f",
   "metadata": {},
   "outputs": [],
   "source": [
    "# check normality"
   ]
  },
  {
   "cell_type": "code",
   "execution_count": 197,
   "id": "94932b60-1aa9-470f-b4aa-ffc82ccdbfaf",
   "metadata": {},
   "outputs": [],
   "source": []
  },
  {
   "cell_type": "code",
   "execution_count": 198,
   "id": "0c757376-5086-44e3-a500-91fe3d6b28b2",
   "metadata": {},
   "outputs": [
    {
     "name": "stdout",
     "output_type": "stream",
     "text": [
      "===================normaltest=========================\n",
      "stat = 2471.9009380274015, p = 0.0\n",
      "not norm\n",
      "\n",
      "\n",
      "===================kstest=========================\n",
      "stat = 0.9997607306680694, p = 0.0\n",
      "not norm\n",
      "\n",
      "\n",
      "===================shapiro=========================\n",
      "stat = 0.8376098871231079, p = 0.0\n",
      "not norm\n",
      "\n",
      "\n",
      "===================skwness=========================\n",
      "stat = 43.94566830356793, p = 0.0\n",
      "not balance\n",
      "\n",
      "\n"
     ]
    },
    {
     "name": "stderr",
     "output_type": "stream",
     "text": [
      "D:\\Miniconda\\envs\\data-sci\\lib\\site-packages\\scipy\\stats\\morestats.py:1760: UserWarning: p-value may not be accurate for N > 5000.\n",
      "  warnings.warn(\"p-value may not be accurate for N > 5000.\")\n",
      "D:\\Miniconda\\envs\\data-sci\\lib\\site-packages\\seaborn\\distributions.py:2619: FutureWarning: `distplot` is a deprecated function and will be removed in a future version. Please adapt your code to use either `displot` (a figure-level function with similar flexibility) or `histplot` (an axes-level function for histograms).\n",
      "  warnings.warn(msg, FutureWarning)\n"
     ]
    },
    {
     "data": {
      "image/png": "[encoded data removed]",
      "text/plain": [
       "<Figure size 432x288 with 1 Axes>"
      ]
     },
     "metadata": {
      "needs_background": "light"
     },
     "output_type": "display_data"
    }
   ],
   "source": [
    "from scipy.stats import normaltest\n",
    "from scipy.stats import kstest\n",
    "from scipy.stats import shapiro\n",
    "from scipy.stats import skewtest\n",
    "import seaborn as sns\n",
    "\n",
    "\n",
    "print('===================normaltest=========================')\n",
    "stat, p = normaltest(df_focus[focus])\n",
    "print('stat = {0}, p = {1}'.format(stat, p))\n",
    "if p > 0.05:\n",
    "    print('norm')\n",
    "else:\n",
    "    print('not norm')\n",
    "print('\\n')\n",
    "\n",
    "print('===================kstest=========================')\n",
    "stat, p = kstest(df_focus[focus], 'norm')\n",
    "print('stat = {0}, p = {1}'.format(stat, p))\n",
    "if p > 0.05:\n",
    "    print('norm')\n",
    "else:\n",
    "    print('not norm')\n",
    "print('\\n')\n",
    "\n",
    "\n",
    "\n",
    "print('===================shapiro=========================')\n",
    "stat, p = shapiro(df_focus[focus])\n",
    "print('stat = {0}, p = {1}'.format(stat, p))\n",
    "if p > 0.05:\n",
    "    print('norm')\n",
    "else:\n",
    "    print('not norm')\n",
    "print('\\n')\n",
    "\n",
    "\n",
    "\n",
    "print('===================skwness=========================')\n",
    "stat, p = skewtest(df_focus[focus])\n",
    "print('stat = {0}, p = {1}'.format(stat, p))\n",
    "if stat < 1:\n",
    "    print('balance')\n",
    "else:\n",
    "    print('not balance')\n",
    "print('\\n')\n",
    "\n",
    "ax = sns.distplot(df_focus[focus])"
   ]
  },
  {
   "cell_type": "code",
   "execution_count": null,
   "id": "fffb15de-0cea-416a-a113-7908c4f541e8",
   "metadata": {},
   "outputs": [],
   "source": []
  }
 ],
 "metadata": {
  "kernelspec": {
   "display_name": "Python 3 (ipykernel)",
   "language": "python",
   "name": "python3"
  },
  "language_info": {
   "codemirror_mode": {
    "name": "ipython",
    "version": 3
   },
   "file_extension": ".py",
   "mimetype": "text/x-python",
   "name": "python",
   "nbconvert_exporter": "python",
   "pygments_lexer": "ipython3",
   "version": "3.7.11"
  }
 },
 "nbformat": 4,
 "nbformat_minor": 5
}
